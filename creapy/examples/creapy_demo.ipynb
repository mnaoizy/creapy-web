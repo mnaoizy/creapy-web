{
 "cells": [
  {
   "attachments": {},
   "cell_type": "markdown",
   "metadata": {},
   "source": [
    "# creapy demo\n",
    "\n",
    "This is a simple demonstration notebook to show the classification process using creapy"
   ]
  },
  {
   "attachments": {},
   "cell_type": "markdown",
   "metadata": {},
   "source": [
    "## Import creapy"
   ]
  },
  {
   "cell_type": "code",
   "execution_count": null,
   "metadata": {
    "tags": []
   },
   "outputs": [],
   "source": [
    "%load_ext autoreload\n",
    "%autoreload 2\n",
    "import creapy"
   ]
  },
  {
   "attachments": {},
   "cell_type": "markdown",
   "metadata": {},
   "source": [
    "## Audio and TextGrid paths\n",
    "\n",
    "First, define the audio- and respective textgrid path (can be the same). Both the `.wav` and `.TextGrid` file should have the same name to be identified as connected."
   ]
  },
  {
   "cell_type": "code",
   "execution_count": null,
   "metadata": {
    "tags": []
   },
   "outputs": [],
   "source": [
    "audio_path = \"../audio/example.wav\"\n",
    "textgrid_path = \"../textgrids/example.TextGrid\""
   ]
  },
  {
   "attachments": {},
   "cell_type": "markdown",
   "metadata": {},
   "source": [
    "## Parameters and config\n",
    "\n",
    "To change parameters you can either change them manually in the config file (see ReadME) or with the `set_config` function. In the ReadMe is a list of the configuratable parameters. Important are the model used which can be modified with `gender_model =` `('all', 'female', 'male')` where `'all'` is the default and the `tier_name` of the new automatically added tier in the TextGrid (default = `'creapy'`). "
   ]
  },
  {
   "cell_type": "code",
   "execution_count": null,
   "metadata": {
    "tags": []
   },
   "outputs": [],
   "source": [
    "creapy.set_config()\n",
    "creapy.set_config(gender_model = 'female', tier_name ='creapy', zcr_threshold = 0.09)"
   ]
  },
  {
   "attachments": {},
   "cell_type": "markdown",
   "metadata": {},
   "source": [
    "Normally, `creapy` will use the model that is trained of both genders. However, you may change this and choose the model trained on `male` / `female` speakers directly when using `process_file` only by setting the `gender` variable to `male` or `female` respectively or keep it unchanged (`None`)."
   ]
  },
  {
   "attachments": {},
   "cell_type": "markdown",
   "metadata": {},
   "source": [
    "## Process file / folder\n",
    "\n",
    "The real processing and detection is happening in the function `process_file`. It can be used as following:"
   ]
  },
  {
   "cell_type": "code",
   "execution_count": null,
   "metadata": {
    "tags": []
   },
   "outputs": [],
   "source": [
    "X_test, y_pred, sr = creapy.process_file(audio_path, textgrid_path=textgrid_path, gender_model='female')"
   ]
  },
  {
   "cell_type": "markdown",
   "metadata": {},
   "source": [
    "Creapy can also process more than one file at a time. This can be done with the `process_folder` function. This function will not return the computed features and the creak probability in contrast to `process_file`."
   ]
  },
  {
   "cell_type": "code",
   "execution_count": null,
   "metadata": {},
   "outputs": [],
   "source": [
    "creapy.process_folder(\"../audio\", \"../textgrids\")"
   ]
  },
  {
   "attachments": {},
   "cell_type": "markdown",
   "metadata": {},
   "source": [
    "## Results / Plot\n",
    "\n",
    "The plot function renders the features from `X_test` and the creak probability `y_pred` over time. One can use the scroll bar to search for the desired time and look at the computed features. Most of the time, only the features `creak_probability`, `zcr` and `ste` are interesting for the classification process (to toggle features, just click on the label on the right)."
   ]
  },
  {
   "cell_type": "code",
   "execution_count": null,
   "metadata": {
    "tags": []
   },
   "outputs": [],
   "source": [
    "fig = creapy.plot(X_test, y_pred, sr, title=\"example.wav\")"
   ]
  },
  {
   "attachments": {},
   "cell_type": "markdown",
   "metadata": {},
   "source": [
    "With the following command you can look at your config. If you want to reset it to the default, you may use `creapy.reset_config()`."
   ]
  },
  {
   "cell_type": "code",
   "execution_count": null,
   "metadata": {},
   "outputs": [],
   "source": [
    "creapy.get_user_config()"
   ]
  }
 ],
 "metadata": {
  "kernelspec": {
   "display_name": "Python 3 (ipykernel)",
   "language": "python",
   "name": "python3"
  },
  "language_info": {
   "codemirror_mode": {
    "name": "ipython",
    "version": 3
   },
   "file_extension": ".py",
   "mimetype": "text/x-python",
   "name": "python",
   "nbconvert_exporter": "python",
   "pygments_lexer": "ipython3",
   "version": "3.10.9"
  },
  "vscode": {
   "interpreter": {
    "hash": "c6a533b14c2054f99c51f02443c6cf788af530336c1492c7edc07772e8048b9d"
   }
  }
 },
 "nbformat": 4,
 "nbformat_minor": 4
}
